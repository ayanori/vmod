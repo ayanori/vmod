{
 "cells": [
  {
   "cell_type": "markdown",
   "id": "3e63f219-ade9-4991-96e4-d9264636473d",
   "metadata": {},
   "source": [
    "# Test out inversion of syntheetic EDM data with VMOD"
   ]
  },
  {
   "cell_type": "code",
   "execution_count": 1,
   "id": "a1fbf9e3-eb04-419d-89ac-15ce98570723",
   "metadata": {},
   "outputs": [],
   "source": [
    "import numpy as np\n",
    "import matplotlib.pyplot as plt\n",
    "from vmod.data import Edm"
   ]
  },
  {
   "cell_type": "markdown",
   "id": "d758361c-6034-4c34-8dd5-073e2d946d8a",
   "metadata": {},
   "source": [
    "# Load synthetic GNSS data and make it in to synthetic EDM data"
   ]
  },
  {
   "cell_type": "code",
   "execution_count": 2,
   "id": "6d519f7d-91fa-4fb0-ac88-44051faf45eb",
   "metadata": {},
   "outputs": [],
   "source": [
    "# Load GNSS\n",
    "csvfile='./examples/dvd/gps/Synth_ENU_Low_Gaussian.csv'\n",
    "xs,ys,uxs,uys,uzs=np.loadtxt(csvfile,skiprows=1,delimiter=',',unpack=True)\n",
    "euxs=xs*0+1e-3\n",
    "euys=np.copy(euxs)\n",
    "euzs=np.copy(euxs)\n",
    "names=[str(i).zfill(4) for i in range(len(xs))]"
   ]
  },
  {
   "cell_type": "code",
   "execution_count": 3,
   "id": "d4479829-6784-45c7-97ce-fd35321f9761",
   "metadata": {},
   "outputs": [],
   "source": [
    "# Pick a few base benchmarks\n",
    "basei = [0, 20, 420, 440]\n",
    "\n",
    "# Make fake EDM data to all of the rest\n",
    "orig_bm = np.zeros((len(xs)-4, 3))\n",
    "tail_bm = np.zeros((len(xs)-4, 3))\n",
    "delta = np.zeros(len(xs)-4)\n",
    "\n",
    "c = 0\n",
    "for i in range(len(xs)):\n",
    "    if(i in basei):\n",
    "        continue\n",
    "    orig_bm[c, :] = [xs[basei[i%4]], ys[basei[i%4]], 0]\n",
    "    tail_bm[c, :] = [xs[i], ys[i], 0]\n",
    "    \n",
    "    x0 = orig_bm[c, 0]\n",
    "    x1 = tail_bm[c, 0]\n",
    "    x0shift = (orig_bm[c, 0]+uxs[basei[i%4]])\n",
    "    x1shift = (tail_bm[c, 0]+uxs[i])\n",
    "    \n",
    "    y0 = orig_bm[c, 1]\n",
    "    y1 = tail_bm[c, 1]\n",
    "    y0shift = (orig_bm[c, 1]+uys[basei[i%4]])\n",
    "    y1shift = (tail_bm[c, 1]+uys[i])\n",
    "    \n",
    "    d0 = np.sqrt((x1-x0)**2 + (y1-y0)**2)\n",
    "    d1 = np.sqrt((x1shift-x0shift)**2 + (y1shift-y0shift)**2)\n",
    "    \n",
    "    delta[c] = d1-d0\n",
    "    \n",
    "    c += 1"
   ]
  },
  {
   "cell_type": "markdown",
   "id": "4454dc9c-7562-4e0c-94bd-05d6110436b0",
   "metadata": {},
   "source": [
    "# Create data object"
   ]
  },
  {
   "cell_type": "code",
   "execution_count": 4,
   "id": "df4834ca-cc01-4c32-9004-3a172607bce6",
   "metadata": {},
   "outputs": [],
   "source": [
    "obs = Edm()\n",
    "\n",
    "obs.add_xorigins(orig_bm[:,0])\n",
    "obs.add_yorigins(orig_bm[:,1])\n",
    "obs.add_zorigins(orig_bm[:,2])\n",
    "\n",
    "obs.add_xends(tail_bm[:,0])\n",
    "obs.add_yends(tail_bm[:,1])\n",
    "obs.add_zends(tail_bm[:,2])\n",
    "\n",
    "# TODO: Add in check for 1D array here\n",
    "obs.add_deltas(delta)"
   ]
  },
  {
   "cell_type": "markdown",
   "id": "a0bdadc5-d989-4df9-b379-96c4c7ada9bc",
   "metadata": {},
   "source": [
    "# Create model object"
   ]
  },
  {
   "cell_type": "code",
   "execution_count": 5,
   "id": "c132ccee-0b7d-4048-9f45-862e94749f32",
   "metadata": {},
   "outputs": [
    {
     "name": "stdout",
     "output_type": "stream",
     "text": [
      "(437,) (437,) (437,)\n"
     ]
    }
   ],
   "source": [
    "from vmod.source import Mctigue\n",
    "mct = Mctigue(obs)\n",
    "deltasm=mct.forward([0,0,2.0e3,5e2,1e6],unravel=True)\n",
    "print(deltasm.shape,delta.shape,obs.get_data().shape)"
   ]
  },
  {
   "cell_type": "markdown",
   "id": "469f0f44-a95f-4647-ab16-05d75458c968",
   "metadata": {},
   "source": [
    "# Create Inversion object"
   ]
  },
  {
   "cell_type": "code",
   "execution_count": null,
   "id": "81b63258-939f-4cab-9111-c17594d9926c",
   "metadata": {},
   "outputs": [],
   "source": [
    "mct.set_x0([0,0,2.0e3,5e2,1e6])\n",
    "#Bounds for parameters\n",
    "mct.set_bounds(low_bounds = [-10000,-10000,5e2,1e1,1e5], high_bounds = [10000,10000,1e4,5e3,1e7])\n",
    "\n",
    "inv = vmod.inverse.Inverse(obs)\n",
    "inv.register_source(mct)"
   ]
  },
  {
   "cell_type": "code",
   "execution_count": null,
   "id": "e185e0a7-d3c5-423b-a4f1-87a23e51e382",
   "metadata": {},
   "outputs": [],
   "source": [
    "ans=inv.nlsq()\n",
    "\n",
    "print(ans.x)"
   ]
  },
  {
   "cell_type": "code",
   "execution_count": null,
   "id": "8494392a-e306-4ef8-813e-e83f97943734",
   "metadata": {},
   "outputs": [],
   "source": [
    "inv.residual(inv.get_x0())"
   ]
  },
  {
   "cell_type": "code",
   "execution_count": null,
   "id": "36c53bad-2114-4091-9da7-859416972e13",
   "metadata": {},
   "outputs": [],
   "source": [
    "#inv.obs.get_data()\n",
    "inv.forward(inv.get_x0())"
   ]
  },
  {
   "cell_type": "code",
   "execution_count": null,
   "id": "d891b7a6-408f-4a3b-9343-fdd127b13ff2",
   "metadata": {},
   "outputs": [],
   "source": []
  }
 ],
 "metadata": {
  "kernelspec": {
   "display_name": "mcmc3",
   "language": "python",
   "name": "mcmc3"
  },
  "language_info": {
   "codemirror_mode": {
    "name": "ipython",
    "version": 3
   },
   "file_extension": ".py",
   "mimetype": "text/x-python",
   "name": "python",
   "nbconvert_exporter": "python",
   "pygments_lexer": "ipython3",
   "version": "3.8.5"
  }
 },
 "nbformat": 4,
 "nbformat_minor": 5
}
